{
 "cells": [
  {
   "cell_type": "markdown",
   "id": "b4bf3d67",
   "metadata": {},
   "source": [
    "# Welcome!\n",
    "\n",
    "In this notebook, I will document my progress on Codewars."
   ]
  },
  {
   "cell_type": "markdown",
   "id": "cf365e9e",
   "metadata": {},
   "source": [
    "## 21/07/25"
   ]
  },
  {
   "cell_type": "code",
   "execution_count": 32,
   "id": "9ef5b0c5",
   "metadata": {},
   "outputs": [],
   "source": [
    "def duplicate_count(text):\n",
    "    text_lower = text.lower()\n",
    "    return( sum([1 for char in set(text_lower) if text_lower.count(char) > 1]) )"
   ]
  },
  {
   "cell_type": "markdown",
   "id": "a44b1347",
   "metadata": {},
   "source": [
    "Works well but we are still looping through all the characters in set(text) and checking manually. Has complexity O(nxm), where n is len(set(text_lower)) and m is text_lower. The .count(char) operation runs through all of text_lower to check."
   ]
  },
  {
   "cell_type": "code",
   "execution_count": null,
   "id": "dbf9ce82",
   "metadata": {},
   "outputs": [],
   "source": [
    "def duplicate_count(text):\n",
    "    text_lower = text.lower()\n",
    "    counts = {}\n",
    "\n",
    "    for char in text_lower:\n",
    "        if char in counts:\n",
    "            counts[char] += 1\n",
    "        \n",
    "        else:\n",
    "            counts[char] = 1\n",
    "        \n",
    "    return sum(1 for count in counts.values() if count > 1)"
   ]
  },
  {
   "cell_type": "markdown",
   "id": "25d2a6a0",
   "metadata": {},
   "source": [
    "Now this only loops through once, so order(n)"
   ]
  },
  {
   "cell_type": "markdown",
   "id": "edac015d",
   "metadata": {},
   "source": [
    "### Is this a valid Tic Tac Toe position"
   ]
  },
  {
   "cell_type": "code",
   "execution_count": 197,
   "id": "d716cef5",
   "metadata": {},
   "outputs": [],
   "source": [
    "def is_valid_position(board: tuple[tuple[str, ...], ...]) -> bool:\n",
    "    \n",
    "    mapping = {'X': 1, 'O': 4, '_': 0}\n",
    "\n",
    "    numeric_pos = tuple(\n",
    "        tuple(mapping.get(cell, 0) for cell in row)\n",
    "        for row in board\n",
    "    )\n",
    "\n",
    "    transposed_pos = tuple(zip(*numeric_pos))\n",
    "\n",
    "    for grid in (numeric_pos, transposed_pos):\n",
    "\n",
    "        all_vals = grid[0] + grid[1] + grid[2]\n",
    "        \n",
    "        ## 1 check if more os / xs than allowed\n",
    "        xs = all_vals.count(1)\n",
    "        os = all_vals.count(4)\n",
    "\n",
    "        if not (xs == os + 1 or os == xs):\n",
    "            return False\n",
    "        \n",
    "\n",
    "        ## check if more than 1 winner\n",
    "        # Count how many rows sum to 3 or 12\n",
    "        sum_ = sum(1 for row in grid if sum(row) in (3, 12))\n",
    "\n",
    "        # Check diagonals\n",
    "        main_diag_sum = sum(grid[i][i] for i in range(len(grid)))\n",
    "        anti_diag_sum = sum(grid[i][len(grid) - i - 1] for i in range(len(grid)))\n",
    "\n",
    "        # Add 1 if diagonals meet condition\n",
    "        sum_ += int(main_diag_sum in (3, 12))\n",
    "        sum_ += int(anti_diag_sum in (3, 12))\n",
    "\n",
    "\n",
    "        if sum_ > 1:\n",
    "            return False\n",
    "        \n",
    "        ## no winner, must be true (well maybe check if grid is filled)\n",
    "        elif sum_ == 0:\n",
    "            continue\n",
    "        \n",
    "        elif sum_ == 1: ## 1 winner\n",
    "\n",
    "            # Row sums\n",
    "            xs_sum = sum(1 for row in grid if sum(row) == 3)\n",
    "            os_sum = sum(1 for row in grid if sum(row) == 12)\n",
    "\n",
    "            # Diagonals\n",
    "            main_diag = sum(grid[i][i] for i in range(len(grid)))\n",
    "            anti_diag = sum(grid[i][len(grid) - 1 - i] for i in range(len(grid)))\n",
    "\n",
    "            # Add diagonals if they match\n",
    "            xs_sum += int(main_diag == 3)\n",
    "            os_sum += int(main_diag == 12)\n",
    "\n",
    "            xs_sum += int(anti_diag == 3)\n",
    "            os_sum += int(anti_diag == 12)\n",
    "\n",
    "\n",
    "            if xs_sum ==1:\n",
    "                if xs == os + 1:\n",
    "                    continue\n",
    "                else:\n",
    "                    return False\n",
    "\n",
    "            if os_sum == 1:\n",
    "                if os == xs:\n",
    "                    continue\n",
    "                else:\n",
    "                    return False\n",
    "\n",
    "\n",
    "    return True"
   ]
  },
  {
   "cell_type": "markdown",
   "id": "9e45d207",
   "metadata": {},
   "source": [
    "works, but plenty of redundant code and repetition."
   ]
  },
  {
   "cell_type": "code",
   "execution_count": 202,
   "id": "ecbe84a9",
   "metadata": {},
   "outputs": [],
   "source": [
    "def is_valid_position(board: tuple[tuple[str, ...], ...]) -> bool:\n",
    "    mapping = {'X': 1, 'O': 4, '_': 0}\n",
    "    \n",
    "    grid = tuple(tuple(mapping.get(cell, 0) for cell in row) for row in board)\n",
    "    \n",
    "    xs = sum(cell == 1 for row in grid for cell in row)\n",
    "    os = sum(cell == 4 for row in grid for cell in row)\n",
    "    \n",
    "    # Rule: X goes first\n",
    "    if not (xs == os or xs == os + 1):\n",
    "        return False\n",
    "\n",
    "    # Collect all lines (rows + columns + 2 diagonals)\n",
    "    rows = grid\n",
    "    cols = tuple(zip(*grid))\n",
    "    diag1 = tuple(grid[i][i] for i in range(3))\n",
    "    diag2 = tuple(grid[i][2 - i] for i in range(3))\n",
    "\n",
    "    lines = list(rows) + list(cols) + [diag1, diag2]\n",
    "\n",
    "    \n",
    "    xs_wins = sum(1 for line in lines if sum(line) == 3)\n",
    "    os_wins = sum(1 for line in lines if sum(line) == 12)\n",
    "\n",
    "    # Can't both win\n",
    "    if xs_wins and os_wins:\n",
    "        return False\n",
    "\n",
    "    # If X wins, must have one more than O\n",
    "    if xs_wins:\n",
    "        if xs != os + 1:\n",
    "            return False\n",
    "\n",
    "    # If O wins, must be equal turns\n",
    "    if os_wins:\n",
    "        if xs != os:\n",
    "            return False\n",
    "\n",
    "    # Otherwise, valid\n",
    "    return True\n"
   ]
  },
  {
   "cell_type": "markdown",
   "id": "9d520374",
   "metadata": {},
   "source": [
    "### Descending Order"
   ]
  },
  {
   "cell_type": "code",
   "execution_count": 34,
   "id": "2f62d094",
   "metadata": {},
   "outputs": [],
   "source": [
    "def descending_order(num):\n",
    "    return int(\"\".join(sorted(str(num), reverse=True)))    "
   ]
  },
  {
   "cell_type": "markdown",
   "id": "63bd98ed",
   "metadata": {},
   "source": [
    "### Tribonacci Sequence"
   ]
  },
  {
   "cell_type": "code",
   "execution_count": null,
   "id": "8446795d",
   "metadata": {},
   "outputs": [],
   "source": [
    "def tribonacci(signature, n):\n",
    "    \n",
    "    seq = [0]*n\n",
    "    seq[0:3] = signature\n",
    "    \n",
    "    for index in range(3,n): #start from index 4\n",
    "        \n",
    "        # sum previous 3 values\n",
    "        rolling_sum = sum(seq[index - 3 : index])\n",
    "        seq[index] = rolling_sum\n",
    "    \n",
    "    return(seq[0:n])"
   ]
  },
  {
   "cell_type": "markdown",
   "id": "a5278e02",
   "metadata": {},
   "source": [
    "<div style=\"border: 1px solid pink; background-color: #ffe6f0; padding: 10px; border-radius: 5px;\">\n",
    "One of top solutions:  <br><br>\n",
    "      \n",
    "      def tribonacci(signature, n):  \n",
    "\n",
    "          res = signature[:n]  \n",
    "\n",
    "          for i in range(n - 3): res.append(sum(res[-3:]))  \n",
    "\n",
    "      return res  \n",
    "</div>\n"
   ]
  },
  {
   "cell_type": "markdown",
   "id": "f7947592",
   "metadata": {},
   "source": [
    "### Regex Tester"
   ]
  },
  {
   "cell_type": "code",
   "execution_count": null,
   "id": "c26c0b75",
   "metadata": {},
   "outputs": [],
   "source": [
    "def validate_pin(pin):\n",
    "    try:\n",
    "        if (pin.isdigit()) and (len(pin) == 4 or (len(pin) ==6)) and (int(pin)>=0):\n",
    "            return True\n",
    "        return False\n",
    "    except:\n",
    "        return False\n",
    "        "
   ]
  },
  {
   "cell_type": "markdown",
   "id": "4fa68305",
   "metadata": {},
   "source": [
    "<div style=\"border: 1px solid pink; background-color: #ffe6f0; padding: 10px; border-radius: 5px;\">\n",
    "One of top solutions:  <br><br>\n",
    "        \n",
    "          \n",
    "    def validate_pin(pin):  \n",
    "  \n",
    "        return len(pin) in (4, 6) and pin.isdigit()\n",
    "  \n",
    "    \n",
    "</div>\n"
   ]
  },
  {
   "cell_type": "code",
   "execution_count": 83,
   "id": "28d0445b",
   "metadata": {},
   "outputs": [
    {
     "data": {
      "text/plain": [
       "False"
      ]
     },
     "execution_count": 83,
     "metadata": {},
     "output_type": "execute_result"
    }
   ],
   "source": [
    "True and False"
   ]
  },
  {
   "cell_type": "code",
   "execution_count": 84,
   "id": "2771a539",
   "metadata": {},
   "outputs": [
    {
     "data": {
      "text/plain": [
       "True"
      ]
     },
     "execution_count": 84,
     "metadata": {},
     "output_type": "execute_result"
    }
   ],
   "source": [
    "True or False"
   ]
  },
  {
   "cell_type": "markdown",
   "id": "77c91c56",
   "metadata": {},
   "source": [
    "### Growth of a Population"
   ]
  },
  {
   "cell_type": "code",
   "execution_count": 91,
   "id": "e5768931",
   "metadata": {},
   "outputs": [],
   "source": [
    "def nb_year(p0, percent, aug, p):\n",
    "    years = 0\n",
    "    p_nplus1 = p0\n",
    "    while p_nplus1 < p:\n",
    "        p_nplus1 = int(p_nplus1*(1+percent/100) +aug)\n",
    "        years += 1\n",
    "    return years"
   ]
  },
  {
   "cell_type": "markdown",
   "id": "ec03b92f",
   "metadata": {},
   "source": [
    "All other solutions use a loop.\n",
    "\n",
    "I did wonder whether it would be better to find p_n then solve for n where p_n >= p, although for realistic population growth, n will always be fairly small, and the operations here are not particularly demanding."
   ]
  },
  {
   "cell_type": "markdown",
   "id": "f62f43fa",
   "metadata": {},
   "source": [
    "## 24/07/25\n",
    "\n",
    "It seems to be giving me quite easy ones today"
   ]
  },
  {
   "cell_type": "code",
   "execution_count": 1,
   "id": "22a81b15",
   "metadata": {},
   "outputs": [],
   "source": [
    "def boolean_to_string(b):\n",
    "    return str(b)"
   ]
  },
  {
   "cell_type": "code",
   "execution_count": 3,
   "id": "87cf2850",
   "metadata": {},
   "outputs": [],
   "source": [
    "def better_than_average(class_points, your_points):\n",
    "    return  sum(class_points) / len(class_points) < your_points"
   ]
  },
  {
   "cell_type": "code",
   "execution_count": 8,
   "id": "abab77a1",
   "metadata": {},
   "outputs": [],
   "source": [
    "def reverse_seq(n):\n",
    "    return(list(range(1,n+1))[::-1])"
   ]
  },
  {
   "cell_type": "markdown",
   "id": "f7d83cd4",
   "metadata": {},
   "source": [
    "model solution has:"
   ]
  },
  {
   "cell_type": "code",
   "execution_count": 9,
   "id": "4b81a171",
   "metadata": {},
   "outputs": [],
   "source": [
    "def reverse_seq(n):\n",
    "    return list(range(n,0,-1))"
   ]
  },
  {
   "cell_type": "code",
   "execution_count": null,
   "id": "5733a9eb",
   "metadata": {},
   "outputs": [],
   "source": [
    "def duplicate_encode(word):\n",
    "    st = word.lower()\n",
    "    return(\"\".join([\")\" if st.count(char) > 1 else \"(\" for char in st]))"
   ]
  },
  {
   "cell_type": "markdown",
   "id": "ba563d63",
   "metadata": {},
   "source": [
    "This is good but is O(n^2) since we call st.count() each time. Better to call it once then lookup values."
   ]
  },
  {
   "cell_type": "code",
   "execution_count": 42,
   "id": "373106a0",
   "metadata": {},
   "outputs": [],
   "source": [
    "def duplicate_encode(word):\n",
    "    st = word.lower()\n",
    "    counts = {}\n",
    "    for char in st:\n",
    "        counts[char] = counts.get(char, 0) + 1\n",
    "    \n",
    "    return(\"\".join([\")\" if counts.get(char) > 1 else \"(\" for char in st]))"
   ]
  },
  {
   "cell_type": "markdown",
   "id": "bceb01ab",
   "metadata": {},
   "source": [
    "O(n) now since we loop through string once to get the counts, then loop through again to form new list. So operations = 2 * len(word) + 1."
   ]
  },
  {
   "cell_type": "code",
   "execution_count": null,
   "id": "335f7a26",
   "metadata": {},
   "outputs": [],
   "source": []
  }
 ],
 "metadata": {
  "kernelspec": {
   "display_name": "Python 3",
   "language": "python",
   "name": "python3"
  },
  "language_info": {
   "codemirror_mode": {
    "name": "ipython",
    "version": 3
   },
   "file_extension": ".py",
   "mimetype": "text/x-python",
   "name": "python",
   "nbconvert_exporter": "python",
   "pygments_lexer": "ipython3",
   "version": "3.12.3"
  }
 },
 "nbformat": 4,
 "nbformat_minor": 5
}
