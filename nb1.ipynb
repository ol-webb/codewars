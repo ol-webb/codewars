{
 "cells": [
  {
   "cell_type": "markdown",
   "id": "b4bf3d67",
   "metadata": {},
   "source": [
    "# Welcome!\n",
    "\n",
    "In this notebook, I will document my progress on Codewars."
   ]
  },
  {
   "cell_type": "markdown",
   "id": "cf365e9e",
   "metadata": {},
   "source": [
    "## 21/07/25"
   ]
  },
  {
   "cell_type": "code",
   "execution_count": 32,
   "id": "9ef5b0c5",
   "metadata": {},
   "outputs": [],
   "source": [
    "def duplicate_count(text):\n",
    "    text_lower = text.lower()\n",
    "    return( sum([1 for char in set(text_lower) if text_lower.count(char) > 1]) )"
   ]
  },
  {
   "cell_type": "markdown",
   "id": "a44b1347",
   "metadata": {},
   "source": [
    "Works well but we are still looping through all the characters in set(text) and checking manually. Has complexity O(nxm), where n is len(set(text_lower)) and m is text_lower. The .count(char) operation runs through all of text_lower to check."
   ]
  },
  {
   "cell_type": "code",
   "execution_count": null,
   "id": "dbf9ce82",
   "metadata": {},
   "outputs": [],
   "source": [
    "def duplicate_count(text):\n",
    "    text_lower = text.lower()\n",
    "    counts = {}\n",
    "\n",
    "    for char in text_lower:\n",
    "        if char in counts:\n",
    "            counts[char] += 1\n",
    "        \n",
    "        else:\n",
    "            counts[char] = 1\n",
    "        \n",
    "    return sum(1 for count in counts.values() if count > 1)"
   ]
  },
  {
   "cell_type": "markdown",
   "id": "25d2a6a0",
   "metadata": {},
   "source": [
    "Now this only loops through once, so order(n)"
   ]
  },
  {
   "cell_type": "markdown",
   "id": "edac015d",
   "metadata": {},
   "source": [
    "### Is this a valid Tic Tac Toe position"
   ]
  },
  {
   "cell_type": "code",
   "execution_count": 197,
   "id": "d716cef5",
   "metadata": {},
   "outputs": [],
   "source": [
    "def is_valid_position(board: tuple[tuple[str, ...], ...]) -> bool:\n",
    "    \n",
    "    mapping = {'X': 1, 'O': 4, '_': 0}\n",
    "\n",
    "    numeric_pos = tuple(\n",
    "        tuple(mapping.get(cell, 0) for cell in row)\n",
    "        for row in board\n",
    "    )\n",
    "\n",
    "    transposed_pos = tuple(zip(*numeric_pos))\n",
    "\n",
    "    for grid in (numeric_pos, transposed_pos):\n",
    "\n",
    "        all_vals = grid[0] + grid[1] + grid[2]\n",
    "        \n",
    "        ## 1 check if more os / xs than allowed\n",
    "        xs = all_vals.count(1)\n",
    "        os = all_vals.count(4)\n",
    "\n",
    "        if not (xs == os + 1 or os == xs):\n",
    "            return False\n",
    "        \n",
    "\n",
    "        ## check if more than 1 winner\n",
    "        # Count how many rows sum to 3 or 12\n",
    "        sum_ = sum(1 for row in grid if sum(row) in (3, 12))\n",
    "\n",
    "        # Check diagonals\n",
    "        main_diag_sum = sum(grid[i][i] for i in range(len(grid)))\n",
    "        anti_diag_sum = sum(grid[i][len(grid) - i - 1] for i in range(len(grid)))\n",
    "\n",
    "        # Add 1 if diagonals meet condition\n",
    "        sum_ += int(main_diag_sum in (3, 12))\n",
    "        sum_ += int(anti_diag_sum in (3, 12))\n",
    "\n",
    "\n",
    "        if sum_ > 1:\n",
    "            return False\n",
    "        \n",
    "        ## no winner, must be true (well maybe check if grid is filled)\n",
    "        elif sum_ == 0:\n",
    "            continue\n",
    "        \n",
    "        elif sum_ == 1: ## 1 winner\n",
    "\n",
    "            # Row sums\n",
    "            xs_sum = sum(1 for row in grid if sum(row) == 3)\n",
    "            os_sum = sum(1 for row in grid if sum(row) == 12)\n",
    "\n",
    "            # Diagonals\n",
    "            main_diag = sum(grid[i][i] for i in range(len(grid)))\n",
    "            anti_diag = sum(grid[i][len(grid) - 1 - i] for i in range(len(grid)))\n",
    "\n",
    "            # Add diagonals if they match\n",
    "            xs_sum += int(main_diag == 3)\n",
    "            os_sum += int(main_diag == 12)\n",
    "\n",
    "            xs_sum += int(anti_diag == 3)\n",
    "            os_sum += int(anti_diag == 12)\n",
    "\n",
    "\n",
    "            if xs_sum ==1:\n",
    "                if xs == os + 1:\n",
    "                    continue\n",
    "                else:\n",
    "                    return False\n",
    "\n",
    "            if os_sum == 1:\n",
    "                if os == xs:\n",
    "                    continue\n",
    "                else:\n",
    "                    return False\n",
    "\n",
    "\n",
    "    return True"
   ]
  },
  {
   "cell_type": "markdown",
   "id": "9e45d207",
   "metadata": {},
   "source": [
    "works, but plenty of redundant code and repetition."
   ]
  },
  {
   "cell_type": "code",
   "execution_count": 202,
   "id": "ecbe84a9",
   "metadata": {},
   "outputs": [],
   "source": [
    "def is_valid_position(board: tuple[tuple[str, ...], ...]) -> bool:\n",
    "    mapping = {'X': 1, 'O': 4, '_': 0}\n",
    "    \n",
    "    grid = tuple(tuple(mapping.get(cell, 0) for cell in row) for row in board)\n",
    "    \n",
    "    xs = sum(cell == 1 for row in grid for cell in row)\n",
    "    os = sum(cell == 4 for row in grid for cell in row)\n",
    "    \n",
    "    # Rule: X goes first\n",
    "    if not (xs == os or xs == os + 1):\n",
    "        return False\n",
    "\n",
    "    # Collect all lines (rows + columns + 2 diagonals)\n",
    "    rows = grid\n",
    "    cols = tuple(zip(*grid))\n",
    "    diag1 = tuple(grid[i][i] for i in range(3))\n",
    "    diag2 = tuple(grid[i][2 - i] for i in range(3))\n",
    "\n",
    "    lines = list(rows) + list(cols) + [diag1, diag2]\n",
    "\n",
    "    \n",
    "    xs_wins = sum(1 for line in lines if sum(line) == 3)\n",
    "    os_wins = sum(1 for line in lines if sum(line) == 12)\n",
    "\n",
    "    # Can't both win\n",
    "    if xs_wins and os_wins:\n",
    "        return False\n",
    "\n",
    "    # If X wins, must have one more than O\n",
    "    if xs_wins:\n",
    "        if xs != os + 1:\n",
    "            return False\n",
    "\n",
    "    # If O wins, must be equal turns\n",
    "    if os_wins:\n",
    "        if xs != os:\n",
    "            return False\n",
    "\n",
    "    # Otherwise, valid\n",
    "    return True\n"
   ]
  },
  {
   "cell_type": "markdown",
   "id": "9d520374",
   "metadata": {},
   "source": [
    "### Descending Order"
   ]
  },
  {
   "cell_type": "code",
   "execution_count": 34,
   "id": "2f62d094",
   "metadata": {},
   "outputs": [],
   "source": [
    "def descending_order(num):\n",
    "    return int(\"\".join(sorted(str(num), reverse=True)))    "
   ]
  },
  {
   "cell_type": "markdown",
   "id": "63bd98ed",
   "metadata": {},
   "source": [
    "### Tribonacci Sequence"
   ]
  },
  {
   "cell_type": "code",
   "execution_count": null,
   "id": "8446795d",
   "metadata": {},
   "outputs": [],
   "source": [
    "def tribonacci(signature, n):\n",
    "    \n",
    "    seq = [0]*n\n",
    "    seq[0:3] = signature\n",
    "    \n",
    "    for index in range(3,n): #start from index 4\n",
    "        \n",
    "        # sum previous 3 values\n",
    "        rolling_sum = sum(seq[index - 3 : index])\n",
    "        seq[index] = rolling_sum\n",
    "    \n",
    "    return(seq[0:n])"
   ]
  },
  {
   "cell_type": "markdown",
   "id": "a5278e02",
   "metadata": {},
   "source": [
    "<div style=\"border: 1px solid pink; background-color: #ffe6f0; padding: 10px; border-radius: 5px;\">\n",
    "One of top solutions:  <br><br>\n",
    "      \n",
    "      def tribonacci(signature, n):  \n",
    "\n",
    "          res = signature[:n]  \n",
    "\n",
    "          for i in range(n - 3): res.append(sum(res[-3:]))  \n",
    "\n",
    "      return res  \n",
    "</div>\n"
   ]
  },
  {
   "cell_type": "markdown",
   "id": "f7947592",
   "metadata": {},
   "source": [
    "### Regex Tester"
   ]
  },
  {
   "cell_type": "code",
   "execution_count": null,
   "id": "c26c0b75",
   "metadata": {},
   "outputs": [],
   "source": [
    "def validate_pin(pin):\n",
    "    try:\n",
    "        if (pin.isdigit()) and (len(pin) == 4 or (len(pin) ==6)) and (int(pin)>=0):\n",
    "            return True\n",
    "        return False\n",
    "    except:\n",
    "        return False\n",
    "        "
   ]
  },
  {
   "cell_type": "markdown",
   "id": "4fa68305",
   "metadata": {},
   "source": [
    "<div style=\"border: 1px solid pink; background-color: #ffe6f0; padding: 10px; border-radius: 5px;\">\n",
    "One of top solutions:  <br><br>\n",
    "        \n",
    "          \n",
    "    def validate_pin(pin):  \n",
    "  \n",
    "        return len(pin) in (4, 6) and pin.isdigit()\n",
    "  \n",
    "    \n",
    "</div>\n"
   ]
  },
  {
   "cell_type": "code",
   "execution_count": 83,
   "id": "28d0445b",
   "metadata": {},
   "outputs": [
    {
     "data": {
      "text/plain": [
       "False"
      ]
     },
     "execution_count": 83,
     "metadata": {},
     "output_type": "execute_result"
    }
   ],
   "source": [
    "True and False"
   ]
  },
  {
   "cell_type": "code",
   "execution_count": 84,
   "id": "2771a539",
   "metadata": {},
   "outputs": [
    {
     "data": {
      "text/plain": [
       "True"
      ]
     },
     "execution_count": 84,
     "metadata": {},
     "output_type": "execute_result"
    }
   ],
   "source": [
    "True or False"
   ]
  },
  {
   "cell_type": "markdown",
   "id": "77c91c56",
   "metadata": {},
   "source": [
    "### Growth of a Population"
   ]
  },
  {
   "cell_type": "code",
   "execution_count": 91,
   "id": "e5768931",
   "metadata": {},
   "outputs": [],
   "source": [
    "def nb_year(p0, percent, aug, p):\n",
    "    years = 0\n",
    "    p_nplus1 = p0\n",
    "    while p_nplus1 < p:\n",
    "        p_nplus1 = int(p_nplus1*(1+percent/100) +aug)\n",
    "        years += 1\n",
    "    return years"
   ]
  },
  {
   "cell_type": "markdown",
   "id": "ec03b92f",
   "metadata": {},
   "source": [
    "All other solutions use a loop.\n",
    "\n",
    "I did wonder whether it would be better to find p_n then solve for n where p_n >= p, although for realistic population growth, n will always be fairly small, and the operations here are not particularly demanding."
   ]
  },
  {
   "cell_type": "markdown",
   "id": "f62f43fa",
   "metadata": {},
   "source": [
    "## 24/07/25\n",
    "\n",
    "It seems to be giving me quite easy ones today"
   ]
  },
  {
   "cell_type": "code",
   "execution_count": 1,
   "id": "22a81b15",
   "metadata": {},
   "outputs": [],
   "source": [
    "def boolean_to_string(b):\n",
    "    return str(b)"
   ]
  },
  {
   "cell_type": "code",
   "execution_count": 3,
   "id": "87cf2850",
   "metadata": {},
   "outputs": [],
   "source": [
    "def better_than_average(class_points, your_points):\n",
    "    return  sum(class_points) / len(class_points) < your_points"
   ]
  },
  {
   "cell_type": "code",
   "execution_count": 8,
   "id": "abab77a1",
   "metadata": {},
   "outputs": [],
   "source": [
    "def reverse_seq(n):\n",
    "    return(list(range(1,n+1))[::-1])"
   ]
  },
  {
   "cell_type": "markdown",
   "id": "f7d83cd4",
   "metadata": {},
   "source": [
    "model solution has:"
   ]
  },
  {
   "cell_type": "code",
   "execution_count": 9,
   "id": "4b81a171",
   "metadata": {},
   "outputs": [],
   "source": [
    "def reverse_seq(n):\n",
    "    return list(range(n,0,-1))"
   ]
  },
  {
   "cell_type": "code",
   "execution_count": null,
   "id": "5733a9eb",
   "metadata": {},
   "outputs": [],
   "source": [
    "def duplicate_encode(word):\n",
    "    st = word.lower()\n",
    "    return(\"\".join([\")\" if st.count(char) > 1 else \"(\" for char in st]))"
   ]
  },
  {
   "cell_type": "markdown",
   "id": "ba563d63",
   "metadata": {},
   "source": [
    "This is good but is O(n^2) since we call st.count() each time. Better to call it once then lookup values."
   ]
  },
  {
   "cell_type": "code",
   "execution_count": 42,
   "id": "373106a0",
   "metadata": {},
   "outputs": [],
   "source": [
    "def duplicate_encode(word):\n",
    "    st = word.lower()\n",
    "    counts = {}\n",
    "    for char in st:\n",
    "        counts[char] = counts.get(char, 0) + 1\n",
    "    \n",
    "    return(\"\".join([\")\" if counts.get(char) > 1 else \"(\" for char in st]))"
   ]
  },
  {
   "cell_type": "markdown",
   "id": "bceb01ab",
   "metadata": {},
   "source": [
    "O(n) now since we loop through string once to get the counts, then loop through again to form new list. So operations = 2 * len(word) + 1."
   ]
  },
  {
   "cell_type": "markdown",
   "id": "335f7a26",
   "metadata": {},
   "source": [
    "### 25/07/25"
   ]
  },
  {
   "cell_type": "markdown",
   "id": "969cdbb9",
   "metadata": {},
   "source": [
    "### Playing with digits"
   ]
  },
  {
   "cell_type": "code",
   "execution_count": null,
   "id": "ca80d702",
   "metadata": {},
   "outputs": [],
   "source": [
    "def dig_pow(dig, p):\n",
    "    square_sum = sum([((int(char))**i) for i, char in enumerate(str(dig), start = p)])\n",
    "    k = square_sum / dig\n",
    "    if int(k) == k:\n",
    "        return k\n",
    "    return -1"
   ]
  },
  {
   "cell_type": "markdown",
   "id": "15ed9ab5",
   "metadata": {},
   "source": [
    "Generally other solutions are similar, although this one looked efficient:  \n",
    "  \n",
    "    def dig_pow(n, p):\n",
    "      k, fail = divmod(sum(int(d)**(p + i) for i, d in enumerate(str(n))), n)\n",
    "      return -1 if fail else k"
   ]
  },
  {
   "cell_type": "markdown",
   "id": "8f957854",
   "metadata": {},
   "source": [
    "### Get the Middle Character"
   ]
  },
  {
   "cell_type": "code",
   "execution_count": null,
   "id": "6d30541c",
   "metadata": {},
   "outputs": [],
   "source": [
    "def get_middle(s):\n",
    "    leng = len(s)\n",
    "    np1 = leng //2\n",
    "    n = int(leng/2) - 1 if leng%2 ==0 else np1\n",
    "    return(s[n:np1+1])"
   ]
  },
  {
   "cell_type": "markdown",
   "id": "b8fbe8a7",
   "metadata": {},
   "source": [
    "    def get_middle(s):\n",
    "        index, odd = divmod(len(s), 2)\n",
    "        return s[index] if odd else s[index - 1:index + 1]\n",
    "\n",
    "Using divmod again.\n",
    "\n",
    "Divmod returns quotient and remainder like: divmod(17, 5) = (3,2) = (17 // 5, 17 % 5)"
   ]
  },
  {
   "cell_type": "markdown",
   "id": "598d21da",
   "metadata": {},
   "source": [
    "### 26/07/25\n",
    "\n",
    "### Opposites Attract"
   ]
  },
  {
   "cell_type": "code",
   "execution_count": 1,
   "id": "85c48764",
   "metadata": {},
   "outputs": [],
   "source": [
    "def lovefunc( flower1, flower2 ):\n",
    "    return((flower1+flower2)%2==1)"
   ]
  },
  {
   "cell_type": "markdown",
   "id": "64e5cbc9",
   "metadata": {},
   "source": [
    "### Friend or Foe?"
   ]
  },
  {
   "cell_type": "code",
   "execution_count": null,
   "id": "658043b5",
   "metadata": {},
   "outputs": [],
   "source": [
    "def friend(x):\n",
    "    return([name for name in x if len(name) == 4])"
   ]
  },
  {
   "cell_type": "markdown",
   "id": "fa6a6e9c",
   "metadata": {},
   "source": [
    "### Ones and Zeros"
   ]
  },
  {
   "cell_type": "code",
   "execution_count": 34,
   "id": "3216cfee",
   "metadata": {},
   "outputs": [],
   "source": [
    "def binary_array_to_number(arr):\n",
    "    bin = [2**val for val in range(len(arr)-1,-1,-1)]\n",
    "    return sum(x*y for x,y in zip(bin, arr))"
   ]
  },
  {
   "cell_type": "markdown",
   "id": "bf7e3619",
   "metadata": {},
   "source": [
    "Best examples use int(x, 2) to convert directly:\n",
    "\n",
    "    def binary_array_to_number(arr):\n",
    "        return int(\"\".join(map(str, arr)), 2)"
   ]
  },
  {
   "cell_type": "markdown",
   "id": "360a4167",
   "metadata": {},
   "source": [
    "### Fake Binary"
   ]
  },
  {
   "cell_type": "code",
   "execution_count": 51,
   "id": "c69f6a20",
   "metadata": {},
   "outputs": [],
   "source": [
    "def fake_bin(x):\n",
    "    res = \"\".join(list(map(lambda y: \"0\" if int(y)<5 else \"1\", x)))\n",
    "    return(res)"
   ]
  },
  {
   "cell_type": "markdown",
   "id": "1a318578",
   "metadata": {},
   "source": [
    "## 27/07/25\n",
    "\n",
    "### Is he gonna survive?"
   ]
  },
  {
   "cell_type": "code",
   "execution_count": null,
   "id": "0e2db087",
   "metadata": {},
   "outputs": [
    {
     "data": {
      "text/plain": [
       "(0, 7)"
      ]
     },
     "execution_count": 58,
     "metadata": {},
     "output_type": "execute_result"
    }
   ],
   "source": [
    "def hero(bullets, dragons):\n",
    "    return bool(bullets//(dragons*2))"
   ]
  },
  {
   "cell_type": "markdown",
   "id": "88607bbd",
   "metadata": {},
   "source": [
    "### Find the Mine! 6kyu"
   ]
  },
  {
   "cell_type": "code",
   "execution_count": null,
   "id": "9d84d15b",
   "metadata": {},
   "outputs": [],
   "source": [
    "def mine_location(field):\n",
    "    ix = next(index for index, st in enumerate(field) if sum(st)==1)\n",
    "    iy = next(index for index, num in enumerate(field[ix]) if num==1)\n",
    "    return([ix,iy])"
   ]
  },
  {
   "cell_type": "markdown",
   "id": "4b5337bf",
   "metadata": {},
   "source": [
    "### Calculating with Functions 5kyu"
   ]
  },
  {
   "cell_type": "code",
   "execution_count": 83,
   "id": "9aa385ae",
   "metadata": {},
   "outputs": [],
   "source": [
    "def zero(op=None): return 0 if op is None else op(0)\n",
    "def one(op=None): return 1 if op is None else op(1)\n",
    "def two(op=None): return 2 if op is None else op(2)\n",
    "def three(op=None): return 3 if op is None else op(3)\n",
    "def four(op=None): return 4 if op is None else op(4)\n",
    "def five(op=None): return 5 if op is None else op(5)\n",
    "def six(op=None): return 6 if op is None else op(6)\n",
    "def seven(op=None): return 7 if op is None else op(7)\n",
    "def eight(op=None): return 8 if op is None else op(8)\n",
    "def nine(op=None): return 9 if op is None else op(9)\n",
    "def plus(x): return lambda y: x+y\n",
    "def minus(x): return lambda y: y-x\n",
    "def times(x): return lambda y: x*y\n",
    "def divided_by(x): return lambda y: y//x"
   ]
  },
  {
   "cell_type": "markdown",
   "id": "63b8bb31",
   "metadata": {},
   "source": [
    "### Is my friend cheating? 5kyu"
   ]
  },
  {
   "cell_type": "code",
   "execution_count": 87,
   "id": "dbfa8ab5",
   "metadata": {},
   "outputs": [],
   "source": [
    "def removNb(n):\n",
    "    result = []\n",
    "    S = n * (n + 1) // 2 + 1\n",
    "    \n",
    "    for x in range(1, int(S**0.5) + 1):\n",
    "        if S % x == 0:\n",
    "            y = S // x\n",
    "            a, b = x - 1, y - 1\n",
    "            if a <= n and b <= n:\n",
    "                if a != b:\n",
    "                    result.append((a, b))\n",
    "                    result.append((b, a))\n",
    "                else:\n",
    "                    result.append((a, b))\n",
    "    return sorted(result)\n"
   ]
  },
  {
   "cell_type": "markdown",
   "id": "6ad635a1",
   "metadata": {},
   "source": [
    "## 28/7/25\n",
    "\n",
    "### Build Tower - 6kyu"
   ]
  },
  {
   "cell_type": "code",
   "execution_count": null,
   "id": "e93332b9",
   "metadata": {},
   "outputs": [],
   "source": [
    "def tower_builder(n_floors):\n",
    "    padding = [' '* val for val in range(n_floors-1,-1,-1)]\n",
    "    stars = [\"*\"*i for i in range (1,2*n_floors+1,2)]\n",
    "    return [padding[i] + stars[i] + padding[i] for i in range(len(padding))]"
   ]
  },
  {
   "cell_type": "markdown",
   "id": "13926867",
   "metadata": {},
   "source": [
    "### Build Tower Advanced - 6kyu"
   ]
  },
  {
   "cell_type": "code",
   "execution_count": null,
   "id": "f69b25a4",
   "metadata": {},
   "outputs": [],
   "source": [
    "def tower_builder(n_floors, block_size):\n",
    "    l1 = [[(\"*\"*block_size[0]*i).center((1+2*(n_floors-1))*block_size[0])]*block_size[1] for i in range(1,2*n_floors+1,2)]\n",
    "    flat = [item for sublist in l1 for item in sublist]\n",
    "    return flat"
   ]
  },
  {
   "cell_type": "markdown",
   "id": "3130487a",
   "metadata": {},
   "source": [
    "Was quite tricky, particularly getting the formula for the overall width. I used .centre instead of forming the padding as earlier."
   ]
  },
  {
   "cell_type": "markdown",
   "id": "524ca6cf",
   "metadata": {},
   "source": []
  }
 ],
 "metadata": {
  "kernelspec": {
   "display_name": "Python 3",
   "language": "python",
   "name": "python3"
  },
  "language_info": {
   "codemirror_mode": {
    "name": "ipython",
    "version": 3
   },
   "file_extension": ".py",
   "mimetype": "text/x-python",
   "name": "python",
   "nbconvert_exporter": "python",
   "pygments_lexer": "ipython3",
   "version": "3.12.3"
  }
 },
 "nbformat": 4,
 "nbformat_minor": 5
}
