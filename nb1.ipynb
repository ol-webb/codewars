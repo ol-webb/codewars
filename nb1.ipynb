{
 "cells": [
  {
   "cell_type": "markdown",
   "id": "b4bf3d67",
   "metadata": {},
   "source": [
    "# Welcome!\n",
    "\n",
    "In this notebook, I will document my progress on Codewars."
   ]
  },
  {
   "cell_type": "markdown",
   "id": "cf365e9e",
   "metadata": {},
   "source": [
    "## 21/07/25"
   ]
  },
  {
   "cell_type": "code",
   "execution_count": 32,
   "id": "9ef5b0c5",
   "metadata": {},
   "outputs": [],
   "source": [
    "def duplicate_count(text):\n",
    "    text_lower = text.lower()\n",
    "    return( sum([1 for char in set(text_lower) if text_lower.count(char) > 1]) )"
   ]
  },
  {
   "cell_type": "markdown",
   "id": "a44b1347",
   "metadata": {},
   "source": [
    "Works well but we are still looping through all the characters in set(text) and checking manually. Has complexity O(nxm), where n is len(set(text_lower)) and m is text_lower. The .count(char) operation runs through all of text_lower to check."
   ]
  },
  {
   "cell_type": "code",
   "execution_count": null,
   "id": "dbf9ce82",
   "metadata": {},
   "outputs": [],
   "source": [
    "def duplicate_count(text):\n",
    "    text_lower = text.lower()\n",
    "    counts = {}\n",
    "\n",
    "    for char in text_lower:\n",
    "        if char in counts:\n",
    "            counts[char] += 1\n",
    "        \n",
    "        else:\n",
    "            counts[char] = 1\n",
    "        \n",
    "    return sum(1 for count in counts.values() if count > 1)"
   ]
  },
  {
   "cell_type": "markdown",
   "id": "25d2a6a0",
   "metadata": {},
   "source": [
    "Now this only loops through once, so order(n)"
   ]
  },
  {
   "cell_type": "markdown",
   "id": "edac015d",
   "metadata": {},
   "source": [
    "### Is this a valid Tic Tac Toe position"
   ]
  },
  {
   "cell_type": "code",
   "execution_count": 197,
   "id": "d716cef5",
   "metadata": {},
   "outputs": [],
   "source": [
    "def is_valid_position(board: tuple[tuple[str, ...], ...]) -> bool:\n",
    "    \n",
    "    mapping = {'X': 1, 'O': 4, '_': 0}\n",
    "\n",
    "    numeric_pos = tuple(\n",
    "        tuple(mapping.get(cell, 0) for cell in row)\n",
    "        for row in board\n",
    "    )\n",
    "\n",
    "    transposed_pos = tuple(zip(*numeric_pos))\n",
    "\n",
    "    for grid in (numeric_pos, transposed_pos):\n",
    "\n",
    "        all_vals = grid[0] + grid[1] + grid[2]\n",
    "        \n",
    "        ## 1 check if more os / xs than allowed\n",
    "        xs = all_vals.count(1)\n",
    "        os = all_vals.count(4)\n",
    "\n",
    "        if not (xs == os + 1 or os == xs):\n",
    "            return False\n",
    "        \n",
    "\n",
    "        ## check if more than 1 winner\n",
    "        # Count how many rows sum to 3 or 12\n",
    "        sum_ = sum(1 for row in grid if sum(row) in (3, 12))\n",
    "\n",
    "        # Check diagonals\n",
    "        main_diag_sum = sum(grid[i][i] for i in range(len(grid)))\n",
    "        anti_diag_sum = sum(grid[i][len(grid) - i - 1] for i in range(len(grid)))\n",
    "\n",
    "        # Add 1 if diagonals meet condition\n",
    "        sum_ += int(main_diag_sum in (3, 12))\n",
    "        sum_ += int(anti_diag_sum in (3, 12))\n",
    "\n",
    "\n",
    "        if sum_ > 1:\n",
    "            return False\n",
    "        \n",
    "        ## no winner, must be true (well maybe check if grid is filled)\n",
    "        elif sum_ == 0:\n",
    "            continue\n",
    "        \n",
    "        elif sum_ == 1: ## 1 winner\n",
    "\n",
    "            # Row sums\n",
    "            xs_sum = sum(1 for row in grid if sum(row) == 3)\n",
    "            os_sum = sum(1 for row in grid if sum(row) == 12)\n",
    "\n",
    "            # Diagonals\n",
    "            main_diag = sum(grid[i][i] for i in range(len(grid)))\n",
    "            anti_diag = sum(grid[i][len(grid) - 1 - i] for i in range(len(grid)))\n",
    "\n",
    "            # Add diagonals if they match\n",
    "            xs_sum += int(main_diag == 3)\n",
    "            os_sum += int(main_diag == 12)\n",
    "\n",
    "            xs_sum += int(anti_diag == 3)\n",
    "            os_sum += int(anti_diag == 12)\n",
    "\n",
    "\n",
    "            if xs_sum ==1:\n",
    "                if xs == os + 1:\n",
    "                    continue\n",
    "                else:\n",
    "                    return False\n",
    "\n",
    "            if os_sum == 1:\n",
    "                if os == xs:\n",
    "                    continue\n",
    "                else:\n",
    "                    return False\n",
    "\n",
    "\n",
    "    return True"
   ]
  },
  {
   "cell_type": "markdown",
   "id": "9e45d207",
   "metadata": {},
   "source": [
    "works, but plenty of redundant code and repetition."
   ]
  },
  {
   "cell_type": "code",
   "execution_count": 202,
   "id": "ecbe84a9",
   "metadata": {},
   "outputs": [],
   "source": [
    "def is_valid_position(board: tuple[tuple[str, ...], ...]) -> bool:\n",
    "    mapping = {'X': 1, 'O': 4, '_': 0}\n",
    "    \n",
    "    grid = tuple(tuple(mapping.get(cell, 0) for cell in row) for row in board)\n",
    "    \n",
    "    xs = sum(cell == 1 for row in grid for cell in row)\n",
    "    os = sum(cell == 4 for row in grid for cell in row)\n",
    "    \n",
    "    # Rule: X goes first\n",
    "    if not (xs == os or xs == os + 1):\n",
    "        return False\n",
    "\n",
    "    # Collect all lines (rows + columns + 2 diagonals)\n",
    "    rows = grid\n",
    "    cols = tuple(zip(*grid))\n",
    "    diag1 = tuple(grid[i][i] for i in range(3))\n",
    "    diag2 = tuple(grid[i][2 - i] for i in range(3))\n",
    "\n",
    "    lines = list(rows) + list(cols) + [diag1, diag2]\n",
    "\n",
    "    \n",
    "    xs_wins = sum(1 for line in lines if sum(line) == 3)\n",
    "    os_wins = sum(1 for line in lines if sum(line) == 12)\n",
    "\n",
    "    # Can't both win\n",
    "    if xs_wins and os_wins:\n",
    "        return False\n",
    "\n",
    "    # If X wins, must have one more than O\n",
    "    if xs_wins:\n",
    "        if xs != os + 1:\n",
    "            return False\n",
    "\n",
    "    # If O wins, must be equal turns\n",
    "    if os_wins:\n",
    "        if xs != os:\n",
    "            return False\n",
    "\n",
    "    # Otherwise, valid\n",
    "    return True\n"
   ]
  },
  {
   "cell_type": "markdown",
   "id": "9d520374",
   "metadata": {},
   "source": [
    "### Descending Order"
   ]
  },
  {
   "cell_type": "code",
   "execution_count": 34,
   "id": "2f62d094",
   "metadata": {},
   "outputs": [],
   "source": [
    "def descending_order(num):\n",
    "    return int(\"\".join(sorted(str(num), reverse=True)))    "
   ]
  },
  {
   "cell_type": "markdown",
   "id": "63bd98ed",
   "metadata": {},
   "source": [
    "### Tribonacci Sequence"
   ]
  },
  {
   "cell_type": "code",
   "execution_count": null,
   "id": "8446795d",
   "metadata": {},
   "outputs": [],
   "source": [
    "def tribonacci(signature, n):\n",
    "    \n",
    "    seq = [0]*n\n",
    "    seq[0:3] = signature\n",
    "    \n",
    "    for index in range(3,n): #start from index 4\n",
    "        \n",
    "        # sum previous 3 values\n",
    "        rolling_sum = sum(seq[index - 3 : index])\n",
    "        seq[index] = rolling_sum\n",
    "    \n",
    "    return(seq[0:n])"
   ]
  },
  {
   "cell_type": "markdown",
   "id": "a5278e02",
   "metadata": {},
   "source": [
    "<div style=\"border: 1px solid pink; background-color: #ffe6f0; padding: 10px; border-radius: 5px;\">\n",
    "One of top solutions:  <br><br>\n",
    "      \n",
    "      def tribonacci(signature, n):  \n",
    "\n",
    "          res = signature[:n]  \n",
    "\n",
    "          for i in range(n - 3): res.append(sum(res[-3:]))  \n",
    "\n",
    "      return res  \n",
    "</div>\n"
   ]
  },
  {
   "cell_type": "markdown",
   "id": "f7947592",
   "metadata": {},
   "source": [
    "### Regex Tester"
   ]
  },
  {
   "cell_type": "code",
   "execution_count": null,
   "id": "c26c0b75",
   "metadata": {},
   "outputs": [],
   "source": [
    "def validate_pin(pin):\n",
    "    try:\n",
    "        if (pin.isdigit()) and (len(pin) == 4 or (len(pin) ==6)) and (int(pin)>=0):\n",
    "            return True\n",
    "        return False\n",
    "    except:\n",
    "        return False\n",
    "        "
   ]
  },
  {
   "cell_type": "markdown",
   "id": "4fa68305",
   "metadata": {},
   "source": [
    "<div style=\"border: 1px solid pink; background-color: #ffe6f0; padding: 10px; border-radius: 5px;\">\n",
    "One of top solutions:  <br><br>\n",
    "        \n",
    "          \n",
    "    def validate_pin(pin):  \n",
    "  \n",
    "        return len(pin) in (4, 6) and pin.isdigit()\n",
    "  \n",
    "    \n",
    "</div>\n"
   ]
  },
  {
   "cell_type": "code",
   "execution_count": 83,
   "id": "28d0445b",
   "metadata": {},
   "outputs": [
    {
     "data": {
      "text/plain": [
       "False"
      ]
     },
     "execution_count": 83,
     "metadata": {},
     "output_type": "execute_result"
    }
   ],
   "source": [
    "True and False"
   ]
  },
  {
   "cell_type": "code",
   "execution_count": 84,
   "id": "2771a539",
   "metadata": {},
   "outputs": [
    {
     "data": {
      "text/plain": [
       "True"
      ]
     },
     "execution_count": 84,
     "metadata": {},
     "output_type": "execute_result"
    }
   ],
   "source": [
    "True or False"
   ]
  },
  {
   "cell_type": "markdown",
   "id": "77c91c56",
   "metadata": {},
   "source": [
    "### Growth of a Population"
   ]
  },
  {
   "cell_type": "code",
   "execution_count": 91,
   "id": "e5768931",
   "metadata": {},
   "outputs": [],
   "source": [
    "def nb_year(p0, percent, aug, p):\n",
    "    years = 0\n",
    "    p_nplus1 = p0\n",
    "    while p_nplus1 < p:\n",
    "        p_nplus1 = int(p_nplus1*(1+percent/100) +aug)\n",
    "        years += 1\n",
    "    return years"
   ]
  },
  {
   "cell_type": "markdown",
   "id": "ec03b92f",
   "metadata": {},
   "source": [
    "All other solutions use a loop.\n",
    "\n",
    "I did wonder whether it would be better to find p_n then solve for n where p_n >= p, although for realistic population growth, n will always be fairly small, and the operations here are not particularly demanding."
   ]
  },
  {
   "cell_type": "markdown",
   "id": "f62f43fa",
   "metadata": {},
   "source": [
    "## 24/07/25\n",
    "\n",
    "It seems to be giving me quite easy ones today"
   ]
  },
  {
   "cell_type": "code",
   "execution_count": 1,
   "id": "22a81b15",
   "metadata": {},
   "outputs": [],
   "source": [
    "def boolean_to_string(b):\n",
    "    return str(b)"
   ]
  },
  {
   "cell_type": "code",
   "execution_count": 3,
   "id": "87cf2850",
   "metadata": {},
   "outputs": [],
   "source": [
    "def better_than_average(class_points, your_points):\n",
    "    return  sum(class_points) / len(class_points) < your_points"
   ]
  },
  {
   "cell_type": "code",
   "execution_count": 8,
   "id": "abab77a1",
   "metadata": {},
   "outputs": [],
   "source": [
    "def reverse_seq(n):\n",
    "    return(list(range(1,n+1))[::-1])"
   ]
  },
  {
   "cell_type": "markdown",
   "id": "f7d83cd4",
   "metadata": {},
   "source": [
    "model solution has:"
   ]
  },
  {
   "cell_type": "code",
   "execution_count": 9,
   "id": "4b81a171",
   "metadata": {},
   "outputs": [],
   "source": [
    "def reverse_seq(n):\n",
    "    return list(range(n,0,-1))"
   ]
  },
  {
   "cell_type": "code",
   "execution_count": null,
   "id": "5733a9eb",
   "metadata": {},
   "outputs": [],
   "source": [
    "def duplicate_encode(word):\n",
    "    st = word.lower()\n",
    "    return(\"\".join([\")\" if st.count(char) > 1 else \"(\" for char in st]))"
   ]
  },
  {
   "cell_type": "markdown",
   "id": "ba563d63",
   "metadata": {},
   "source": [
    "This is good but is O(n^2) since we call st.count() each time. Better to call it once then lookup values."
   ]
  },
  {
   "cell_type": "code",
   "execution_count": 42,
   "id": "373106a0",
   "metadata": {},
   "outputs": [],
   "source": [
    "def duplicate_encode(word):\n",
    "    st = word.lower()\n",
    "    counts = {}\n",
    "    for char in st:\n",
    "        counts[char] = counts.get(char, 0) + 1\n",
    "    \n",
    "    return(\"\".join([\")\" if counts.get(char) > 1 else \"(\" for char in st]))"
   ]
  },
  {
   "cell_type": "markdown",
   "id": "bceb01ab",
   "metadata": {},
   "source": [
    "O(n) now since we loop through string once to get the counts, then loop through again to form new list. So operations = 2 * len(word) + 1."
   ]
  },
  {
   "cell_type": "markdown",
   "id": "335f7a26",
   "metadata": {},
   "source": [
    "### 25/07/25"
   ]
  },
  {
   "cell_type": "markdown",
   "id": "969cdbb9",
   "metadata": {},
   "source": [
    "### Playing with digits"
   ]
  },
  {
   "cell_type": "code",
   "execution_count": null,
   "id": "ca80d702",
   "metadata": {},
   "outputs": [],
   "source": [
    "def dig_pow(dig, p):\n",
    "    square_sum = sum([((int(char))**i) for i, char in enumerate(str(dig), start = p)])\n",
    "    k = square_sum / dig\n",
    "    if int(k) == k:\n",
    "        return k\n",
    "    return -1"
   ]
  },
  {
   "cell_type": "markdown",
   "id": "15ed9ab5",
   "metadata": {},
   "source": [
    "Generally other solutions are similar, although this one looked efficient:  \n",
    "  \n",
    "    def dig_pow(n, p):\n",
    "      k, fail = divmod(sum(int(d)**(p + i) for i, d in enumerate(str(n))), n)\n",
    "      return -1 if fail else k"
   ]
  },
  {
   "cell_type": "markdown",
   "id": "8f957854",
   "metadata": {},
   "source": [
    "### Get the Middle Character"
   ]
  },
  {
   "cell_type": "code",
   "execution_count": null,
   "id": "6d30541c",
   "metadata": {},
   "outputs": [],
   "source": [
    "def get_middle(s):\n",
    "    leng = len(s)\n",
    "    np1 = leng //2\n",
    "    n = int(leng/2) - 1 if leng%2 ==0 else np1\n",
    "    return(s[n:np1+1])"
   ]
  },
  {
   "cell_type": "markdown",
   "id": "b8fbe8a7",
   "metadata": {},
   "source": [
    "    def get_middle(s):\n",
    "        index, odd = divmod(len(s), 2)\n",
    "        return s[index] if odd else s[index - 1:index + 1]\n",
    "\n",
    "Using divmod again.\n",
    "\n",
    "Divmod returns quotient and remainder like: divmod(17, 5) = (3,2) = (17 // 5, 17 % 5)"
   ]
  },
  {
   "cell_type": "markdown",
   "id": "598d21da",
   "metadata": {},
   "source": [
    "### 26/07/25\n",
    "\n",
    "### Opposites Attract"
   ]
  },
  {
   "cell_type": "code",
   "execution_count": 1,
   "id": "85c48764",
   "metadata": {},
   "outputs": [],
   "source": [
    "def lovefunc( flower1, flower2 ):\n",
    "    return((flower1+flower2)%2==1)"
   ]
  },
  {
   "cell_type": "markdown",
   "id": "64e5cbc9",
   "metadata": {},
   "source": [
    "### Friend or Foe?"
   ]
  },
  {
   "cell_type": "code",
   "execution_count": null,
   "id": "658043b5",
   "metadata": {},
   "outputs": [],
   "source": [
    "def friend(x):\n",
    "    return([name for name in x if len(name) == 4])"
   ]
  },
  {
   "cell_type": "markdown",
   "id": "fa6a6e9c",
   "metadata": {},
   "source": [
    "### Ones and Zeros"
   ]
  },
  {
   "cell_type": "code",
   "execution_count": 34,
   "id": "3216cfee",
   "metadata": {},
   "outputs": [],
   "source": [
    "def binary_array_to_number(arr):\n",
    "    bin = [2**val for val in range(len(arr)-1,-1,-1)]\n",
    "    return sum(x*y for x,y in zip(bin, arr))"
   ]
  },
  {
   "cell_type": "markdown",
   "id": "bf7e3619",
   "metadata": {},
   "source": [
    "Best examples use int(x, 2) to convert directly:\n",
    "\n",
    "    def binary_array_to_number(arr):\n",
    "        return int(\"\".join(map(str, arr)), 2)"
   ]
  },
  {
   "cell_type": "markdown",
   "id": "360a4167",
   "metadata": {},
   "source": [
    "### Fake Binary"
   ]
  },
  {
   "cell_type": "code",
   "execution_count": 51,
   "id": "c69f6a20",
   "metadata": {},
   "outputs": [],
   "source": [
    "def fake_bin(x):\n",
    "    res = \"\".join(list(map(lambda y: \"0\" if int(y)<5 else \"1\", x)))\n",
    "    return(res)"
   ]
  },
  {
   "cell_type": "markdown",
   "id": "1a318578",
   "metadata": {},
   "source": [
    "## 27/07/25\n",
    "\n",
    "### Is he gonna survive?"
   ]
  },
  {
   "cell_type": "code",
   "execution_count": null,
   "id": "0e2db087",
   "metadata": {},
   "outputs": [
    {
     "data": {
      "text/plain": [
       "(0, 7)"
      ]
     },
     "execution_count": 58,
     "metadata": {},
     "output_type": "execute_result"
    }
   ],
   "source": [
    "def hero(bullets, dragons):\n",
    "    return bool(bullets//(dragons*2))"
   ]
  },
  {
   "cell_type": "markdown",
   "id": "88607bbd",
   "metadata": {},
   "source": [
    "### Find the Mine! 6kyu"
   ]
  },
  {
   "cell_type": "code",
   "execution_count": null,
   "id": "9d84d15b",
   "metadata": {},
   "outputs": [],
   "source": [
    "def mine_location(field):\n",
    "    ix = next(index for index, st in enumerate(field) if sum(st)==1)\n",
    "    iy = next(index for index, num in enumerate(field[ix]) if num==1)\n",
    "    return([ix,iy])"
   ]
  },
  {
   "cell_type": "markdown",
   "id": "4b5337bf",
   "metadata": {},
   "source": [
    "### Calculating with Functions 5kyu"
   ]
  },
  {
   "cell_type": "code",
   "execution_count": 83,
   "id": "9aa385ae",
   "metadata": {},
   "outputs": [],
   "source": [
    "def zero(op=None): return 0 if op is None else op(0)\n",
    "def one(op=None): return 1 if op is None else op(1)\n",
    "def two(op=None): return 2 if op is None else op(2)\n",
    "def three(op=None): return 3 if op is None else op(3)\n",
    "def four(op=None): return 4 if op is None else op(4)\n",
    "def five(op=None): return 5 if op is None else op(5)\n",
    "def six(op=None): return 6 if op is None else op(6)\n",
    "def seven(op=None): return 7 if op is None else op(7)\n",
    "def eight(op=None): return 8 if op is None else op(8)\n",
    "def nine(op=None): return 9 if op is None else op(9)\n",
    "def plus(x): return lambda y: x+y\n",
    "def minus(x): return lambda y: y-x\n",
    "def times(x): return lambda y: x*y\n",
    "def divided_by(x): return lambda y: y//x"
   ]
  },
  {
   "cell_type": "markdown",
   "id": "63b8bb31",
   "metadata": {},
   "source": [
    "### Is my friend cheating? 5kyu"
   ]
  },
  {
   "cell_type": "code",
   "execution_count": 87,
   "id": "dbfa8ab5",
   "metadata": {},
   "outputs": [],
   "source": [
    "def removNb(n):\n",
    "    result = []\n",
    "    S = n * (n + 1) // 2 + 1\n",
    "    \n",
    "    for x in range(1, int(S**0.5) + 1):\n",
    "        if S % x == 0:\n",
    "            y = S // x\n",
    "            a, b = x - 1, y - 1\n",
    "            if a <= n and b <= n:\n",
    "                if a != b:\n",
    "                    result.append((a, b))\n",
    "                    result.append((b, a))\n",
    "                else:\n",
    "                    result.append((a, b))\n",
    "    return sorted(result)\n"
   ]
  },
  {
   "cell_type": "markdown",
   "id": "6ad635a1",
   "metadata": {},
   "source": [
    "## 28/7/25\n",
    "\n",
    "### Build Tower - 6kyu"
   ]
  },
  {
   "cell_type": "code",
   "execution_count": null,
   "id": "e93332b9",
   "metadata": {},
   "outputs": [],
   "source": [
    "def tower_builder(n_floors):\n",
    "    padding = [' '* val for val in range(n_floors-1,-1,-1)]\n",
    "    stars = [\"*\"*i for i in range (1,2*n_floors+1,2)]\n",
    "    return [padding[i] + stars[i] + padding[i] for i in range(len(padding))]"
   ]
  },
  {
   "cell_type": "markdown",
   "id": "13926867",
   "metadata": {},
   "source": [
    "### Build Tower Advanced - 6kyu"
   ]
  },
  {
   "cell_type": "code",
   "execution_count": null,
   "id": "f69b25a4",
   "metadata": {},
   "outputs": [],
   "source": [
    "def tower_builder(n_floors, block_size):\n",
    "    l1 = [[(\"*\"*block_size[0]*i).center((1+2*(n_floors-1))*block_size[0])]*block_size[1] for i in range(1,2*n_floors+1,2)]\n",
    "    flat = [item for sublist in l1 for item in sublist]\n",
    "    return flat"
   ]
  },
  {
   "cell_type": "markdown",
   "id": "3130487a",
   "metadata": {},
   "source": [
    "Was quite tricky, particularly getting the formula for the overall width. I used .centre instead of forming the padding as earlier."
   ]
  },
  {
   "cell_type": "markdown",
   "id": "17c3b0f6",
   "metadata": {},
   "source": [
    "## 29/07/25\n",
    "\n",
    "### Replace With Alphabet Position - 6kyu"
   ]
  },
  {
   "cell_type": "code",
   "execution_count": 2,
   "id": "2809680f",
   "metadata": {},
   "outputs": [],
   "source": [
    "import string\n",
    "def alphabet_position(text):\n",
    "    return_list = []\n",
    "    \n",
    "    for char in text.lower():\n",
    "        try:\n",
    "            v = string.ascii_lowercase.index(char)\n",
    "            return_list.append(str(v+1))\n",
    "        except:\n",
    "            pass\n",
    "    \n",
    "    return( \" \".join(return_list) )"
   ]
  },
  {
   "cell_type": "markdown",
   "id": "c5398932",
   "metadata": {},
   "source": [
    "### Take a Ten Minutes Walk - 6kyu"
   ]
  },
  {
   "cell_type": "code",
   "execution_count": null,
   "id": "89e011e3",
   "metadata": {},
   "outputs": [],
   "source": [
    "def is_valid_walk(walk):\n",
    "    ## check walk valid\n",
    "    dir_dict = {\n",
    "        'n':1,\n",
    "        's':-1,\n",
    "        'e':1j,\n",
    "        'w':-1j\n",
    "    }\n",
    "    sum_dir = sum(list(map(lambda x: dir_dict.get(x,0),walk)))\n",
    "    if (sum_dir != 0) or (len(walk)!=10):\n",
    "        return False\n",
    "    return True"
   ]
  },
  {
   "cell_type": "markdown",
   "id": "630a3538",
   "metadata": {},
   "source": [
    "## 30/7/25\n",
    "\n",
    "### Reverse words - 7kyu"
   ]
  },
  {
   "cell_type": "code",
   "execution_count": 15,
   "id": "4904dce2",
   "metadata": {},
   "outputs": [],
   "source": [
    "def reverse_words(text):\n",
    "    return \" \".join([word[::-1] for word in text.split(\" \")])"
   ]
  },
  {
   "cell_type": "markdown",
   "id": "57f47766",
   "metadata": {},
   "source": [
    "### Your order, please"
   ]
  },
  {
   "cell_type": "code",
   "execution_count": 41,
   "id": "2129e827",
   "metadata": {},
   "outputs": [],
   "source": [
    "def order(sentence):\n",
    "    d = {}\n",
    "    for word in sentence.split():\n",
    "        for letter in word:\n",
    "            if letter.isdigit():\n",
    "                d[letter] = word\n",
    "\n",
    "    return \" \".join([d.get(str(i)) for i in range(1,len(d)+1)])"
   ]
  },
  {
   "cell_type": "markdown",
   "id": "68e42bc3",
   "metadata": {},
   "source": [
    "## 31/07/2025\n",
    "\n",
    "### Beginner Series #3 SUm of Numbers - 7kyu"
   ]
  },
  {
   "cell_type": "code",
   "execution_count": 1,
   "id": "713b0655",
   "metadata": {},
   "outputs": [],
   "source": [
    "def get_sum(a,b):\n",
    "    if a>b:\n",
    "        return sum(range(b,a+1,1))\n",
    "    return sum(range(a,b+1,1))"
   ]
  },
  {
   "cell_type": "markdown",
   "id": "4d4af1eb",
   "metadata": {},
   "source": [
    "    def get_sum(a,b):\n",
    "        return sum(range(min(a, b), max(a, b) + 1))"
   ]
  },
  {
   "cell_type": "markdown",
   "id": "9ba1fcba",
   "metadata": {},
   "source": [
    "### Abbreviate a Two Word Name - 8kyu"
   ]
  },
  {
   "cell_type": "code",
   "execution_count": 18,
   "id": "b62272cf",
   "metadata": {},
   "outputs": [],
   "source": [
    "def abbrev_name(name):\n",
    "    return \".\".join([name[0].upper() for name in name.split()])"
   ]
  },
  {
   "cell_type": "markdown",
   "id": "24a06baa",
   "metadata": {},
   "source": [
    "### Delete occurrences of an element if it occurs more than n times"
   ]
  },
  {
   "cell_type": "code",
   "execution_count": null,
   "id": "a0d76467",
   "metadata": {},
   "outputs": [],
   "source": [
    "def delete_nth(order,max_e):\n",
    "    l = []\n",
    "    for number in order:\n",
    "        if l.count(number)<max_e:\n",
    "            l.append(number)\n",
    "    return l"
   ]
  },
  {
   "cell_type": "markdown",
   "id": "ee5c6ffb",
   "metadata": {},
   "source": [
    "Other solutions generally do the same thing. Whether directly or under the hood, you would have to loop through the string and count occurrences anyway. "
   ]
  },
  {
   "cell_type": "markdown",
   "id": "609679af",
   "metadata": {},
   "source": [
    "## 01/08/25\n",
    "\n",
    "### If you can't sleep, just count sheep!! - 8kyu"
   ]
  },
  {
   "cell_type": "code",
   "execution_count": 1,
   "id": "834ee71c",
   "metadata": {},
   "outputs": [],
   "source": [
    "def count_sheep(n):\n",
    "    return \"\".join([(f\"{i} sheep...\") for i in range(1,n+1,1)])"
   ]
  },
  {
   "cell_type": "code",
   "execution_count": 17,
   "id": "5faeadb0",
   "metadata": {},
   "outputs": [],
   "source": [
    "def series_sum(n):\n",
    "    S = [(1/(1+i)) for i in range(0,3*n,3)]\n",
    "    return S"
   ]
  },
  {
   "cell_type": "markdown",
   "id": "71ab943d",
   "metadata": {},
   "source": [
    "### Sum of the first nth term of Series"
   ]
  },
  {
   "cell_type": "code",
   "execution_count": 24,
   "id": "4937c288",
   "metadata": {},
   "outputs": [],
   "source": [
    "def series_sum(n):\n",
    "    S = [(1/(1+i)) for i in range(0,3*n,3)]\n",
    "    return f\"{round(sum(S),2):.2f}\""
   ]
  },
  {
   "cell_type": "markdown",
   "id": "0bd081eb",
   "metadata": {},
   "source": [
    "### Challenge Fun #13: Target Game"
   ]
  },
  {
   "cell_type": "code",
   "execution_count": 104,
   "id": "5dcc0641",
   "metadata": {},
   "outputs": [],
   "source": [
    "import itertools\n",
    "\n",
    "def target_game(values):\n",
    "\n",
    "    vals2 = [num for num in values if num > -1]\n",
    "    print(vals2)\n",
    "\n",
    "    l1 = [i for i in range(len(vals2))]\n",
    "\n",
    "    ##1 loop through to get group of combinations for each length n (eg combinations of 1 number, combinations of 2 numbers, etc)\n",
    "\n",
    "    comb_rets = []\n",
    "\n",
    "    ## since we cant have consec numbers, the longest comb is len(list)//2 + 1\n",
    "    max_comb_len = len(l1)//2 + 1\n",
    "\n",
    "    for n in range(max_comb_len+1):\n",
    "\n",
    "        ## get all combinations of that length\n",
    "        combs = itertools.combinations(l1, n)\n",
    "\n",
    "        ## iterate through those combinations\n",
    "        for comb in combs:\n",
    "\n",
    "            has_consec = False\n",
    "\n",
    "            ## iterate through a single combinations\n",
    "            for val in range(len(comb)-1):\n",
    "\n",
    "\n",
    "                ## check if the next val is equal to the last val +1\n",
    "                if comb[val] == comb[val+1] - 1: # its consecutive, discard the comb\n",
    "                    has_consec = True\n",
    "                    break\n",
    "\n",
    "            if has_consec == False:\n",
    "                comb_rets.append(comb)\n",
    "\n",
    "    ## create sums\n",
    "    return max(sum([vals2[i] for i in comb]) for comb in comb_rets)"
   ]
  },
  {
   "cell_type": "code",
   "execution_count": 106,
   "id": "cb0f27af",
   "metadata": {},
   "outputs": [],
   "source": [
    "from functools import lru_cache\n",
    "\n",
    "def target_game(values):\n",
    "    n = len(values)\n",
    "\n",
    "    non_adj_indices = [[] for _ in range(n)]\n",
    "    for i in range(n):\n",
    "        for j in range(i + 2, n):\n",
    "            non_adj_indices[i].append(j)\n",
    "\n",
    "    @lru_cache(maxsize=None)\n",
    "    def dfs(i):\n",
    "        if i >= n:\n",
    "            return 0\n",
    "\n",
    "        best = dfs(i + 1)\n",
    "\n",
    "        for j in non_adj_indices[i]:\n",
    "            best = max(best, values[i] + dfs(j))\n",
    "\n",
    "        best = max(best, values[i])\n",
    "\n",
    "        return best\n",
    "\n",
    "    return dfs(0)"
   ]
  },
  {
   "cell_type": "markdown",
   "id": "3ad45eb7",
   "metadata": {},
   "source": [
    "    def target_game(values):\n",
    "        a = b = 0\n",
    "        for n in values:\n",
    "            a, b = b, max(a + n, b)\n",
    "        return max(a, b)"
   ]
  },
  {
   "cell_type": "markdown",
   "id": "3551bbe3",
   "metadata": {},
   "source": [
    "This was a tricky example where the best solution as above used dynamical programming. This is something I think would be good to practice more on."
   ]
  },
  {
   "cell_type": "markdown",
   "id": "a0b07272",
   "metadata": {},
   "source": [
    "## 2/8/25\n",
    "\n",
    "### Sum Mixed Array"
   ]
  },
  {
   "cell_type": "code",
   "execution_count": 1,
   "id": "4f2a897c",
   "metadata": {},
   "outputs": [],
   "source": [
    "def sum_mix(arr):\n",
    "    return sum([int(num) for num in arr])"
   ]
  },
  {
   "cell_type": "markdown",
   "id": "dcd0c52a",
   "metadata": {},
   "source": [
    "### Highest Scoring Word - 6kyu"
   ]
  },
  {
   "cell_type": "code",
   "execution_count": 50,
   "id": "d09b8d36",
   "metadata": {},
   "outputs": [],
   "source": [
    "import string\n",
    "def high(x):\n",
    "    maxscore, bestword = 0, None\n",
    "    for word in x.split()[::-1]:\n",
    "        score = sum([string.ascii_lowercase.index(char) +1 for char in word])\n",
    "        maxscore = max(maxscore, score)\n",
    "        if score == maxscore:\n",
    "            bestword = word\n",
    "    return bestword\n",
    "        \n",
    "        "
   ]
  },
  {
   "cell_type": "markdown",
   "id": "57bd0312",
   "metadata": {},
   "source": [
    "Top Ranking:\n",
    "\n",
    "    def high(x):\n",
    "        return max(x.split(), key=lambda k: sum(ord(c) - 96 for c in k))\n"
   ]
  },
  {
   "cell_type": "markdown",
   "id": "7d7a0edb",
   "metadata": {},
   "source": [
    "## 03/08/25\n",
    "\n",
    "### Array.diff - 6kyu"
   ]
  },
  {
   "cell_type": "code",
   "execution_count": 39,
   "id": "ca56b42f",
   "metadata": {},
   "outputs": [],
   "source": [
    "def array_diff(a, b):\n",
    "    sa, sb = set(a), set(b)\n",
    "    return [val for val in a if val not in sb]"
   ]
  },
  {
   "cell_type": "markdown",
   "id": "6bc95391",
   "metadata": {},
   "source": [
    "## Rot13 - 5kyu\n",
    "\n",
    "We want to enode a string using Rot13 cipher, knowing ord(c) - 96 gives us the character position from above, we can use this."
   ]
  },
  {
   "cell_type": "code",
   "execution_count": 74,
   "id": "abc58d24",
   "metadata": {},
   "outputs": [],
   "source": [
    "import string\n",
    "def rot13(message):\n",
    "    \n",
    "    def shift_char(char, shift = 13):\n",
    "        print(char)\n",
    "        for alphabet in (string.ascii_lowercase, string.ascii_uppercase):\n",
    "            if char in alphabet:\n",
    "                print(alphabet.index(char))\n",
    "                return alphabet[(alphabet.index(char)+shift)%26]\n",
    "        return char\n",
    "    \n",
    "    return \"\".join(shift_char(let) for let in message)\n"
   ]
  },
  {
   "cell_type": "markdown",
   "id": "e5443ad9",
   "metadata": {},
   "source": [
    "Since we have to shift both uppercase and lowercase characters, I think using string was better.\n",
    "\n",
    "## 04/08/25\n",
    "\n",
    "### Binary Addition - 7kyu"
   ]
  },
  {
   "cell_type": "code",
   "execution_count": 79,
   "id": "73ba12f3",
   "metadata": {},
   "outputs": [],
   "source": [
    "def add_binary(a,b):\n",
    "    return bin(a + b)[2:]"
   ]
  },
  {
   "cell_type": "markdown",
   "id": "1cf53abb",
   "metadata": {},
   "source": [
    "### Two to One - 7kyu"
   ]
  },
  {
   "cell_type": "code",
   "execution_count": 88,
   "id": "4ae7c7a9",
   "metadata": {},
   "outputs": [],
   "source": [
    "def longest(a1, a2):\n",
    "    return \"\".join(sorted(set(a1+a2)))\n",
    "\n",
    "# I learnt sorted works for alphabets"
   ]
  },
  {
   "cell_type": "markdown",
   "id": "38fc041c",
   "metadata": {},
   "source": [
    "### Find the Unique Number - 6kyu\n",
    "\n",
    "Finding the number in a list that appears only once"
   ]
  },
  {
   "cell_type": "code",
   "execution_count": 122,
   "id": "1a6adcab",
   "metadata": {},
   "outputs": [],
   "source": [
    "def find_uniq(arr):\n",
    "    d = {}\n",
    "    \n",
    "    for val in arr:\n",
    "        d[val] = d.get(val, 0) + 1\n",
    "    return sorted([(key, value) for key, value in d.items()], key=lambda x: x[1])[0][0]"
   ]
  },
  {
   "cell_type": "markdown",
   "id": "5a083bd9",
   "metadata": {},
   "source": [
    "Top Solution:\n",
    "\n",
    "    def find_uniq(arr):\n",
    "        a, b = set(arr)\n",
    "        return a if arr.count(a) == 1 else b\n",
    "\n",
    "Works well, but assumes that the input array will only have two unique entries. Both mine and above would loop through arr or dict twice so O(n)."
   ]
  },
  {
   "cell_type": "markdown",
   "id": "4fdd1bc4",
   "metadata": {},
   "source": [
    "## 05/08/2025\n",
    "\n",
    "### Unique in Order - 6kyu"
   ]
  },
  {
   "cell_type": "code",
   "execution_count": 136,
   "id": "5b6e404c",
   "metadata": {},
   "outputs": [],
   "source": [
    "def unique_in_order(sequence):\n",
    "    l = [sequence[0]] if sequence else []\n",
    "    for val in sequence[1:]:\n",
    "        if l[-1]!=val:\n",
    "            l.append(val)\n",
    "    return l"
   ]
  },
  {
   "cell_type": "markdown",
   "id": "7155c97b",
   "metadata": {},
   "source": [
    "### Mumbling - 7kyu\n",
    "\n",
    "    accum(\"abcd\") -> \"A-Bb-Ccc-Dddd\"\n",
    "    accum(\"RqaEzty\") -> \"R-Qq-Aaa-Eeee-Zzzzz-Tttttt-Yyyyyyy\"\n",
    "    accum(\"cwAt\") -> \"C-Ww-Aaa-Tttt\""
   ]
  },
  {
   "cell_type": "code",
   "execution_count": 144,
   "id": "520def8a",
   "metadata": {},
   "outputs": [],
   "source": [
    "def accum(st):\n",
    "    return \"\".join([\"\".join([char.upper(), char.lower()*i, \"-\"]) for i, char in enumerate(st)])[:-1]"
   ]
  },
  {
   "cell_type": "markdown",
   "id": "5b32936a",
   "metadata": {},
   "source": [
    "## 06/08/25\n",
    "\n",
    "### Valid Braces - 6kyu"
   ]
  },
  {
   "cell_type": "code",
   "execution_count": 163,
   "id": "e2376778",
   "metadata": {},
   "outputs": [],
   "source": [
    "def validBraces(string):\n",
    "    brace_map = {\"(\":\")\", \"[\":\"]\", \"{\":\"}\"}\n",
    "    stack = []\n",
    "\n",
    "    for char in string:\n",
    "        if char in brace_map.keys():\n",
    "            stack.append(char)\n",
    "            print(stack)\n",
    "        elif char in brace_map.values():\n",
    "\n",
    "            if not stack:\n",
    "                return(False)\n",
    "            \n",
    "            last_open = stack.pop()\n",
    "\n",
    "            if brace_map[last_open] != char:\n",
    "                return(False)\n",
    "            \n",
    "    return True if not stack else False"
   ]
  },
  {
   "cell_type": "markdown",
   "id": "3e3f3e7f",
   "metadata": {},
   "source": [
    "Using a last in first out (LIFO) stack. Useful concept, would be good to practice something like this again.\n",
    "\n",
    "### Find the next perfect square - 7kyu"
   ]
  },
  {
   "cell_type": "code",
   "execution_count": 170,
   "id": "8ba5d9cc",
   "metadata": {},
   "outputs": [],
   "source": [
    "def find_next_square(sq):\n",
    "    num = ((sq**0.5 +1)**2)\n",
    "    if num.is_integer():\n",
    "        return num\n",
    "    return -1\n"
   ]
  },
  {
   "cell_type": "markdown",
   "id": "9731c0d9",
   "metadata": {},
   "source": [
    "## 07/08/2025\n",
    "\n",
    "### Sort the odd - 6kyu\n",
    "\n",
    "Sort odd numbers in a list while keeping even numbers in their original positions."
   ]
  },
  {
   "cell_type": "code",
   "execution_count": 5,
   "id": "df2c45cb",
   "metadata": {},
   "outputs": [],
   "source": [
    "def sort_array(source_array):\n",
    "    odds = sorted([num for num in source_array if num%2 == 1])\n",
    "    \n",
    "    ret_ar = []\n",
    "    odd_count = 0\n",
    "    for val in source_array:\n",
    "        if val%2 == 0:\n",
    "            ret_ar.append(val)\n",
    "        else:\n",
    "            ret_ar.append(odds[odd_count])\n",
    "            odd_count += 1\n",
    "    return ret_ar"
   ]
  },
  {
   "cell_type": "markdown",
   "id": "c0b51ef9",
   "metadata": {},
   "source": [
    "Not the most concise, but not super complex. Uses sorted once and then loops through array one time. You would have to use sorted to sort the odd values anyway, although perhaps looping through the array is avoidable.\n",
    "\n",
    "Top solution:\n",
    "\n",
    "    def sort_array(source_array):\n",
    "        odds = iter(sorted(v for v in source_array if v % 2))\n",
    "        return [next(odds) if i % 2 else i for i in source_array]\n",
    "\n",
    "### Snail - 4kyu\n",
    "\n",
    "For an nxn array, return the array elements arranged from outermost element to middle in clockwise pattern."
   ]
  },
  {
   "cell_type": "code",
   "execution_count": 128,
   "id": "d3bbddf1",
   "metadata": {},
   "outputs": [],
   "source": [
    "def snail(array):\n",
    "    \n",
    "    if len(array[0])==0:\n",
    "        return([])\n",
    "    \n",
    "    N = len(array)\n",
    "    index_list = []\n",
    "\n",
    "    for j in range(N):\n",
    "        index_list.append([0, j])\n",
    "\n",
    "    i, j = 0, N - 1\n",
    "    directions = [(1, 0), (0, -1), (-1, 0), (0, 1)]\n",
    "    dir_idx = 0\n",
    "\n",
    "    steps = N - 1\n",
    "    while steps > 0:\n",
    "        for _ in range(2):\n",
    "            di, dj = directions[dir_idx % 4]\n",
    "            for _ in range(steps):\n",
    "                i += di\n",
    "                j += dj\n",
    "                index_list.append([i, j])\n",
    "            dir_idx += 1\n",
    "        steps -= 1\n",
    "\n",
    "    return([array[i][j] for i, j in index_list])"
   ]
  },
  {
   "cell_type": "markdown",
   "id": "2e7795d6",
   "metadata": {},
   "source": [
    "Quite tricky, top solutions always make you feel bad:\n",
    "\n",
    "    def snail(array):\n",
    "        out = []\n",
    "        while len(array):\n",
    "            out += array.pop(0)\n",
    "            array = list(zip(*array))[::-1] # Rotate\n",
    "        return out\n"
   ]
  },
  {
   "cell_type": "markdown",
   "id": "3d9f7b3b",
   "metadata": {},
   "source": [
    "## 08/08/2025\n",
    "\n",
    "### Find the missing letter - 6kyu\n",
    "\n",
    "In a list of string letters, find the missing letter in the sequence."
   ]
  },
  {
   "cell_type": "code",
   "execution_count": null,
   "id": "8179da16",
   "metadata": {},
   "outputs": [],
   "source": [
    "def find_missing_letter(chars):\n",
    "    missing = [(ord(char)) for index, char in enumerate(chars) if ord(char) != index + ord(chars[0])][0]\n",
    "    return chr(missing - 1)"
   ]
  },
  {
   "cell_type": "markdown",
   "id": "e6630840",
   "metadata": {},
   "source": [
    "### Write Number in Expanded Form - 6kyu"
   ]
  },
  {
   "cell_type": "code",
   "execution_count": 202,
   "id": "96505d29",
   "metadata": {},
   "outputs": [],
   "source": [
    "def expanded_form(num):\n",
    "    sn = str(num)\n",
    "    ans = \" + \".join([str(int(val)*10**(index)) for val, index in zip(sn, range(len(sn)-1,-1,-1)) if val != '0'])\n",
    "    return ans"
   ]
  },
  {
   "cell_type": "markdown",
   "id": "3c815d99",
   "metadata": {},
   "source": [
    "## 08/08/25\n",
    "\n",
    "### Build a pile of cubes - 6kyu"
   ]
  },
  {
   "cell_type": "code",
   "execution_count": 203,
   "id": "974a1e91",
   "metadata": {},
   "outputs": [],
   "source": [
    "def find_nb(m):\n",
    "    sum_, count_ = 0, 1\n",
    "    while sum_ < m:\n",
    "        sum_ += count_**3\n",
    "        count_ += 1\n",
    "    if sum_ == m:\n",
    "        return count_ -1 \n",
    "    return -1"
   ]
  },
  {
   "cell_type": "markdown",
   "id": "12deea18",
   "metadata": {},
   "source": [
    "## 10/08/25\n",
    "\n",
    "### Distance between two points - 7kyu"
   ]
  },
  {
   "cell_type": "code",
   "execution_count": 214,
   "id": "6d537db1",
   "metadata": {},
   "outputs": [],
   "source": [
    "#from preloaded import Point\n",
    "\n",
    "def distance_between_points(a, b) -> float:\n",
    "    dx = a.x - b.x\n",
    "    dy = a.y - b.y\n",
    "    dz = a.z - b.z\n",
    "    return (dx**2 + dy**2 + dz**2)**0.5"
   ]
  },
  {
   "cell_type": "markdown",
   "id": "07f01a22",
   "metadata": {},
   "source": [
    "### The Supermarket Queue - 6kyu\n",
    "\n",
    "Allocating customers to n queues. Finding the time for all the queues to clear.  \n",
    "Quite happy with my answer, initialising the checkouts with zero time, then allocating the customer to the index, keeping the checkouts as a rolling sum."
   ]
  },
  {
   "cell_type": "code",
   "execution_count": 226,
   "id": "6d4735b6",
   "metadata": {},
   "outputs": [],
   "source": [
    "def queue_time(customers, n):\n",
    "    queues = [0]*n\n",
    "    for customer in customers:\n",
    "        min_queue = queues.index(min(queues))\n",
    "        queues[min_queue] += customer\n",
    "    return max(queues)"
   ]
  },
  {
   "cell_type": "markdown",
   "id": "bc512fb3",
   "metadata": {},
   "source": [
    "## 11/08/25\n",
    "\n",
    "### Simple Fun #237: Suffix Sums - 6kyu\n",
    "\n",
    "I made two solutions: the first is concise, using list comprehension, but it slices and computes a sum for every element in the array; it was too slow and didnt pass the tests. The second is more verbose, but populates the array first, then computes a rolling sum so it only performs two operations per element in array rather than summing a sliced array."
   ]
  },
  {
   "cell_type": "code",
   "execution_count": 230,
   "id": "2e4a2fae",
   "metadata": {},
   "outputs": [],
   "source": [
    "def suffix_sums(arr):\n",
    "    leng = len(arr)\n",
    "    return [sum(arr[i:leng:1]) for i in range(leng)]"
   ]
  },
  {
   "cell_type": "code",
   "execution_count": 238,
   "id": "d82e8a27",
   "metadata": {},
   "outputs": [],
   "source": [
    "def suffix_sums(arr):\n",
    "    leng = len(arr)\n",
    "    ret = [sum(arr)]*leng\n",
    "    rol_sum = 0\n",
    "    for i in range(leng):\n",
    "        ret[i] = ret[i] - rol_sum\n",
    "        rol_sum += arr[i]\n",
    "    return ret"
   ]
  },
  {
   "cell_type": "markdown",
   "id": "43326e1a",
   "metadata": {},
   "source": [
    "### Bouncing Balls - 6kyu"
   ]
  },
  {
   "cell_type": "code",
   "execution_count": 248,
   "id": "45acbf90",
   "metadata": {},
   "outputs": [],
   "source": [
    "def bouncing_ball(h, bounce, window):\n",
    "\n",
    "    if (h > window) and (bounce > 0) and (bounce < 1) and (h > 0):\n",
    "        passes = 1 # flys past window\n",
    "        h = h*bounce # bounce\n",
    "        \n",
    "        while h > window: # if still higher than window\n",
    "            h = h*bounce\n",
    "            passes += 2\n",
    "        return passes\n",
    "    \n",
    "    return -1"
   ]
  },
  {
   "cell_type": "markdown",
   "id": "8eb221c5",
   "metadata": {},
   "source": [
    "### Simple Multiplication - 8kyu\n",
    "\n",
    "A problem in C. I think I will do two katas in C also.\n",
    "\n",
    "```c\n",
    "int simple_multiplication(int number) {\n",
    "    if (number % 2 == 0) {\n",
    "      return number*8;\n",
    "    }\n",
    "    return number*9;\n",
    "}\n",
    "```\n",
    "\n",
    "### Surface Area and Volume of Box - 8kyu\n",
    "\n",
    "```c\n",
    "typedef struct AV_PAIR {\n",
    "  unsigned area;\n",
    "  unsigned volume;\n",
    "} area_volume_pair;\n",
    "\n",
    "area_volume_pair get_size(unsigned width, unsigned height, unsigned depth) {\n",
    "  \n",
    "    int area = 2*(width*height) + 2*(width*depth) + 2*(depth*height);\n",
    "    int volume = width*height*depth;\n",
    "  \n",
    "    return (area_volume_pair) { .area = area, .volume = volume };\n",
    "\n",
    "}\n",
    "```"
   ]
  },
  {
   "cell_type": "markdown",
   "id": "7c0258de",
   "metadata": {},
   "source": [
    "## 12/08/25\n",
    "\n",
    "### Follow that Spy -6kyu\n",
    "\n",
    "Return destinations in order of travel given a itiniery that is not necesserily in order.  \n",
    "Quite happy with my solution, it matches some of the best practices."
   ]
  },
  {
   "cell_type": "code",
   "execution_count": 41,
   "id": "af127224",
   "metadata": {},
   "outputs": [],
   "source": [
    "def find_routes(routes):\n",
    "    di = {}\n",
    "\n",
    "    for i,j in routes:\n",
    "        di[i] = j\n",
    "    \n",
    "    ## starting destination is one which does not appear as a value\n",
    "    start = set(di.keys()).difference(set(di.values()))\n",
    "    next_d = list(start)[0]\n",
    "    ret, lenroutes = [next_d], len(routes)\n",
    "\n",
    "    while len(ret) <= lenroutes:\n",
    "        next_d = di[next_d]\n",
    "        ret.append(next_d)\n",
    "\n",
    "    return \", \".join(ret)\n"
   ]
  },
  {
   "cell_type": "code",
   "execution_count": 42,
   "id": "ba06e082",
   "metadata": {},
   "outputs": [
    {
     "data": {
      "text/plain": [
       "'ITA, GER, BEL, CAN'"
      ]
     },
     "execution_count": 42,
     "metadata": {},
     "output_type": "execute_result"
    }
   ],
   "source": [
    "routes = [('ITA','GER'), ('GER','BEL'), ('BEL','CAN')]\n",
    "find_routes(routes)"
   ]
  },
  {
   "cell_type": "markdown",
   "id": "4210d641",
   "metadata": {},
   "source": [
    "### Number of trailing zeros of N! - 5kyu\n",
    "\n",
    "Find the number of trailing zeros in a factorial."
   ]
  },
  {
   "cell_type": "code",
   "execution_count": 57,
   "id": "d61b3e32",
   "metadata": {},
   "outputs": [],
   "source": [
    "def zeros(n):\n",
    "    \"\"\"\n",
    "    10 has factors 2 and 5. Since 2 is so common, the number of zeros is simply the number of 5s\n",
    "    \"\"\"\n",
    "    i, count = 1, 0\n",
    "    while 5**i < n:\n",
    "        count += n // 5**i\n",
    "        i +=1\n",
    "    \n",
    "    return(count)"
   ]
  },
  {
   "cell_type": "code",
   "execution_count": 58,
   "id": "2aa22936",
   "metadata": {},
   "outputs": [
    {
     "data": {
      "text/plain": [
       "24"
      ]
     },
     "execution_count": 58,
     "metadata": {},
     "output_type": "execute_result"
    }
   ],
   "source": [
    "zeros(100)"
   ]
  },
  {
   "cell_type": "markdown",
   "id": "0d5f6ebf",
   "metadata": {},
   "source": [
    "## 13/08/25\n",
    "\n",
    "### Probabilities for Sums in Rolling Cubic Dice -5kyu\n",
    "\n",
    "A function to return the probability of rolling n number of dice whose sum makes a specified amount.  \n",
    "First time we have used an import. Most other solutions use itertools or more complex nested functions."
   ]
  },
  {
   "cell_type": "code",
   "execution_count": null,
   "id": "4d11fbcb",
   "metadata": {},
   "outputs": [],
   "source": [
    "from itertools import product\n",
    "\n",
    "def rolldice_sum_prob(sum_, dice):\n",
    "    values, counts = [1,2,3,4,5,6], 0\n",
    "    \n",
    "    for t in product(values, repeat=dice):\n",
    "        if sum(t) == sum_:\n",
    "            counts += 1\n",
    "    \n",
    "    return(counts/6**dice)"
   ]
  },
  {
   "cell_type": "code",
   "execution_count": 30,
   "id": "59a36971",
   "metadata": {},
   "outputs": [
    {
     "data": {
      "text/plain": [
       "0.05555555555555555"
      ]
     },
     "execution_count": 30,
     "metadata": {},
     "output_type": "execute_result"
    }
   ],
   "source": [
    "rolldice_sum_prob(11,2)"
   ]
  },
  {
   "cell_type": "markdown",
   "id": "f6d7ae03",
   "metadata": {},
   "source": [
    "## 14/08/25\n",
    "\n",
    "### Papers, Please - 3kyu\n",
    "\n",
    "Since I am doing this 3kyu, I must be getting better\n",
    "\n",
    "https://www.codewars.com/kata/59d582cafbdd0b7ef90000a0/train/python"
   ]
  },
  {
   "cell_type": "code",
   "execution_count": 15,
   "id": "438b7b72",
   "metadata": {},
   "outputs": [],
   "source": [
    "class Inspector:\n",
    "    def __init__(self):\n",
    "        \n",
    "        pass\n",
    "    \n",
    "    def receive_bulletin(self, bulletin):\n",
    "        \n",
    "        # update countries to allow\n",
    "        self.allow_countries = ...\n",
    "        \n",
    "        # update countries to deny\n",
    "        \n",
    "        # updates to required documents\n",
    "        \n",
    "        # updates to vaccinations\n",
    "        \n",
    "        # updates to wanted people\n",
    "        \n",
    "    def inspect(self, entrants_documents):\n",
    "        \n",
    "        self.passport = entrants_documents['passport']\n",
    "        \n",
    "        "
   ]
  },
  {
   "cell_type": "markdown",
   "id": "6c985b1d",
   "metadata": {},
   "source": [
    "### Generate Pairs - 7kyu"
   ]
  },
  {
   "cell_type": "code",
   "execution_count": 16,
   "id": "b117dbfb",
   "metadata": {},
   "outputs": [],
   "source": [
    "def generate_pairs(n):\n",
    "    ret = []\n",
    "    for i in range(0,n+1):\n",
    "        for j in range(i,n+1):\n",
    "            ret.append([i,j])\n",
    "            \n",
    "    return ret"
   ]
  },
  {
   "cell_type": "markdown",
   "id": "a7ebac62",
   "metadata": {},
   "source": [
    "### Array combinations - 6kyu\n",
    "\n",
    "Uses Walrus operator to assign value inside expression  \n",
    "```c\n",
    ":="
   ]
  },
  {
   "cell_type": "code",
   "execution_count": 19,
   "id": "f3e4e4b7",
   "metadata": {},
   "outputs": [],
   "source": [
    "def solve(arr):\n",
    "    result  = 1\n",
    "    [result := result *x for x in [len(set(i)) for i in arr]]\n",
    "    return result"
   ]
  },
  {
   "cell_type": "code",
   "execution_count": null,
   "id": "408daafa",
   "metadata": {},
   "outputs": [],
   "source": []
  }
 ],
 "metadata": {
  "kernelspec": {
   "display_name": "Python 3",
   "language": "python",
   "name": "python3"
  },
  "language_info": {
   "codemirror_mode": {
    "name": "ipython",
    "version": 3
   },
   "file_extension": ".py",
   "mimetype": "text/x-python",
   "name": "python",
   "nbconvert_exporter": "python",
   "pygments_lexer": "ipython3",
   "version": "3.12.3"
  }
 },
 "nbformat": 4,
 "nbformat_minor": 5
}
